{
 "cells": [
  {
   "cell_type": "code",
   "execution_count": 1,
   "metadata": {},
   "outputs": [],
   "source": [
    "import numpy as np\n",
    "import pandas as pd\n",
    "import matplotlib.pyplot as plt\n",
    "%matplotlib inline\n",
    "import seaborn as sn\n",
    "from datetime import datetime,timedelta\n",
    "import warnings\n",
    "warnings.filterwarnings(\"ignore\")\n",
    "import math\n",
    "from sklearn.metrics import mean_squared_error\n",
    "import tensorflow as tf\n",
    "from tensorflow.python.keras.models import Sequential\n",
    "from tensorflow.python.keras.layers import Dense\n",
    "from tensorflow.python.keras.layers import LSTM"
   ]
  },
  {
   "cell_type": "code",
   "execution_count": 2,
   "metadata": {},
   "outputs": [],
   "source": [
    "df = pd.read_csv(\"TataGlobal.csv\")"
   ]
  },
  {
   "cell_type": "code",
   "execution_count": 3,
   "metadata": {},
   "outputs": [
    {
     "data": {
      "text/html": [
       "<div>\n",
       "<style scoped>\n",
       "    .dataframe tbody tr th:only-of-type {\n",
       "        vertical-align: middle;\n",
       "    }\n",
       "\n",
       "    .dataframe tbody tr th {\n",
       "        vertical-align: top;\n",
       "    }\n",
       "\n",
       "    .dataframe thead th {\n",
       "        text-align: right;\n",
       "    }\n",
       "</style>\n",
       "<table border=\"1\" class=\"dataframe\">\n",
       "  <thead>\n",
       "    <tr style=\"text-align: right;\">\n",
       "      <th></th>\n",
       "      <th>Date</th>\n",
       "      <th>Open</th>\n",
       "      <th>High</th>\n",
       "      <th>Low</th>\n",
       "      <th>Last</th>\n",
       "      <th>Close</th>\n",
       "      <th>Total Trade Quantity</th>\n",
       "      <th>Turnover (Lacs)</th>\n",
       "    </tr>\n",
       "  </thead>\n",
       "  <tbody>\n",
       "    <tr>\n",
       "      <th>0</th>\n",
       "      <td>2018-09-28</td>\n",
       "      <td>234.05</td>\n",
       "      <td>235.95</td>\n",
       "      <td>230.20</td>\n",
       "      <td>233.50</td>\n",
       "      <td>233.75</td>\n",
       "      <td>3069914</td>\n",
       "      <td>7162.35</td>\n",
       "    </tr>\n",
       "    <tr>\n",
       "      <th>1</th>\n",
       "      <td>2018-09-27</td>\n",
       "      <td>234.55</td>\n",
       "      <td>236.80</td>\n",
       "      <td>231.10</td>\n",
       "      <td>233.80</td>\n",
       "      <td>233.25</td>\n",
       "      <td>5082859</td>\n",
       "      <td>11859.95</td>\n",
       "    </tr>\n",
       "    <tr>\n",
       "      <th>2</th>\n",
       "      <td>2018-09-26</td>\n",
       "      <td>240.00</td>\n",
       "      <td>240.00</td>\n",
       "      <td>232.50</td>\n",
       "      <td>235.00</td>\n",
       "      <td>234.25</td>\n",
       "      <td>2240909</td>\n",
       "      <td>5248.60</td>\n",
       "    </tr>\n",
       "    <tr>\n",
       "      <th>3</th>\n",
       "      <td>2018-09-25</td>\n",
       "      <td>233.30</td>\n",
       "      <td>236.75</td>\n",
       "      <td>232.00</td>\n",
       "      <td>236.25</td>\n",
       "      <td>236.10</td>\n",
       "      <td>2349368</td>\n",
       "      <td>5503.90</td>\n",
       "    </tr>\n",
       "    <tr>\n",
       "      <th>4</th>\n",
       "      <td>2018-09-24</td>\n",
       "      <td>233.55</td>\n",
       "      <td>239.20</td>\n",
       "      <td>230.75</td>\n",
       "      <td>234.00</td>\n",
       "      <td>233.30</td>\n",
       "      <td>3423509</td>\n",
       "      <td>7999.55</td>\n",
       "    </tr>\n",
       "  </tbody>\n",
       "</table>\n",
       "</div>"
      ],
      "text/plain": [
       "         Date    Open    High     Low    Last   Close  Total Trade Quantity  \\\n",
       "0  2018-09-28  234.05  235.95  230.20  233.50  233.75               3069914   \n",
       "1  2018-09-27  234.55  236.80  231.10  233.80  233.25               5082859   \n",
       "2  2018-09-26  240.00  240.00  232.50  235.00  234.25               2240909   \n",
       "3  2018-09-25  233.30  236.75  232.00  236.25  236.10               2349368   \n",
       "4  2018-09-24  233.55  239.20  230.75  234.00  233.30               3423509   \n",
       "\n",
       "   Turnover (Lacs)  \n",
       "0          7162.35  \n",
       "1         11859.95  \n",
       "2          5248.60  \n",
       "3          5503.90  \n",
       "4          7999.55  "
      ]
     },
     "execution_count": 3,
     "metadata": {},
     "output_type": "execute_result"
    }
   ],
   "source": [
    "df.head()"
   ]
  },
  {
   "cell_type": "code",
   "execution_count": 4,
   "metadata": {},
   "outputs": [
    {
     "data": {
      "text/plain": [
       "(2035, 8)"
      ]
     },
     "execution_count": 4,
     "metadata": {},
     "output_type": "execute_result"
    }
   ],
   "source": [
    "df.shape"
   ]
  },
  {
   "cell_type": "code",
   "execution_count": 5,
   "metadata": {},
   "outputs": [
    {
     "name": "stdout",
     "output_type": "stream",
     "text": [
      "<class 'pandas.core.frame.DataFrame'>\n",
      "RangeIndex: 2035 entries, 0 to 2034\n",
      "Data columns (total 8 columns):\n",
      " #   Column                Non-Null Count  Dtype  \n",
      "---  ------                --------------  -----  \n",
      " 0   Date                  2035 non-null   object \n",
      " 1   Open                  2035 non-null   float64\n",
      " 2   High                  2035 non-null   float64\n",
      " 3   Low                   2035 non-null   float64\n",
      " 4   Last                  2035 non-null   float64\n",
      " 5   Close                 2035 non-null   float64\n",
      " 6   Total Trade Quantity  2035 non-null   int64  \n",
      " 7   Turnover (Lacs)       2035 non-null   float64\n",
      "dtypes: float64(6), int64(1), object(1)\n",
      "memory usage: 127.3+ KB\n"
     ]
    }
   ],
   "source": [
    "df.info()"
   ]
  },
  {
   "cell_type": "code",
   "execution_count": 6,
   "metadata": {},
   "outputs": [
    {
     "data": {
      "text/html": [
       "<div>\n",
       "<style scoped>\n",
       "    .dataframe tbody tr th:only-of-type {\n",
       "        vertical-align: middle;\n",
       "    }\n",
       "\n",
       "    .dataframe tbody tr th {\n",
       "        vertical-align: top;\n",
       "    }\n",
       "\n",
       "    .dataframe thead th {\n",
       "        text-align: right;\n",
       "    }\n",
       "</style>\n",
       "<table border=\"1\" class=\"dataframe\">\n",
       "  <thead>\n",
       "    <tr style=\"text-align: right;\">\n",
       "      <th></th>\n",
       "      <th>Open</th>\n",
       "      <th>High</th>\n",
       "      <th>Low</th>\n",
       "      <th>Last</th>\n",
       "      <th>Close</th>\n",
       "      <th>Total Trade Quantity</th>\n",
       "      <th>Turnover (Lacs)</th>\n",
       "    </tr>\n",
       "  </thead>\n",
       "  <tbody>\n",
       "    <tr>\n",
       "      <th>count</th>\n",
       "      <td>2035.000000</td>\n",
       "      <td>2035.000000</td>\n",
       "      <td>2035.000000</td>\n",
       "      <td>2035.000000</td>\n",
       "      <td>2035.00000</td>\n",
       "      <td>2.035000e+03</td>\n",
       "      <td>2035.000000</td>\n",
       "    </tr>\n",
       "    <tr>\n",
       "      <th>mean</th>\n",
       "      <td>149.713735</td>\n",
       "      <td>151.992826</td>\n",
       "      <td>147.293931</td>\n",
       "      <td>149.474251</td>\n",
       "      <td>149.45027</td>\n",
       "      <td>2.335681e+06</td>\n",
       "      <td>3899.980565</td>\n",
       "    </tr>\n",
       "    <tr>\n",
       "      <th>std</th>\n",
       "      <td>48.664509</td>\n",
       "      <td>49.413109</td>\n",
       "      <td>47.931958</td>\n",
       "      <td>48.732570</td>\n",
       "      <td>48.71204</td>\n",
       "      <td>2.091778e+06</td>\n",
       "      <td>4570.767877</td>\n",
       "    </tr>\n",
       "    <tr>\n",
       "      <th>min</th>\n",
       "      <td>81.100000</td>\n",
       "      <td>82.800000</td>\n",
       "      <td>80.000000</td>\n",
       "      <td>81.000000</td>\n",
       "      <td>80.95000</td>\n",
       "      <td>3.961000e+04</td>\n",
       "      <td>37.040000</td>\n",
       "    </tr>\n",
       "    <tr>\n",
       "      <th>25%</th>\n",
       "      <td>120.025000</td>\n",
       "      <td>122.100000</td>\n",
       "      <td>118.300000</td>\n",
       "      <td>120.075000</td>\n",
       "      <td>120.05000</td>\n",
       "      <td>1.146444e+06</td>\n",
       "      <td>1427.460000</td>\n",
       "    </tr>\n",
       "    <tr>\n",
       "      <th>50%</th>\n",
       "      <td>141.500000</td>\n",
       "      <td>143.400000</td>\n",
       "      <td>139.600000</td>\n",
       "      <td>141.100000</td>\n",
       "      <td>141.25000</td>\n",
       "      <td>1.783456e+06</td>\n",
       "      <td>2512.030000</td>\n",
       "    </tr>\n",
       "    <tr>\n",
       "      <th>75%</th>\n",
       "      <td>157.175000</td>\n",
       "      <td>159.400000</td>\n",
       "      <td>155.150000</td>\n",
       "      <td>156.925000</td>\n",
       "      <td>156.90000</td>\n",
       "      <td>2.813594e+06</td>\n",
       "      <td>4539.015000</td>\n",
       "    </tr>\n",
       "    <tr>\n",
       "      <th>max</th>\n",
       "      <td>327.700000</td>\n",
       "      <td>328.750000</td>\n",
       "      <td>321.650000</td>\n",
       "      <td>325.950000</td>\n",
       "      <td>325.75000</td>\n",
       "      <td>2.919102e+07</td>\n",
       "      <td>55755.080000</td>\n",
       "    </tr>\n",
       "  </tbody>\n",
       "</table>\n",
       "</div>"
      ],
      "text/plain": [
       "              Open         High          Low         Last       Close  \\\n",
       "count  2035.000000  2035.000000  2035.000000  2035.000000  2035.00000   \n",
       "mean    149.713735   151.992826   147.293931   149.474251   149.45027   \n",
       "std      48.664509    49.413109    47.931958    48.732570    48.71204   \n",
       "min      81.100000    82.800000    80.000000    81.000000    80.95000   \n",
       "25%     120.025000   122.100000   118.300000   120.075000   120.05000   \n",
       "50%     141.500000   143.400000   139.600000   141.100000   141.25000   \n",
       "75%     157.175000   159.400000   155.150000   156.925000   156.90000   \n",
       "max     327.700000   328.750000   321.650000   325.950000   325.75000   \n",
       "\n",
       "       Total Trade Quantity  Turnover (Lacs)  \n",
       "count          2.035000e+03      2035.000000  \n",
       "mean           2.335681e+06      3899.980565  \n",
       "std            2.091778e+06      4570.767877  \n",
       "min            3.961000e+04        37.040000  \n",
       "25%            1.146444e+06      1427.460000  \n",
       "50%            1.783456e+06      2512.030000  \n",
       "75%            2.813594e+06      4539.015000  \n",
       "max            2.919102e+07     55755.080000  "
      ]
     },
     "execution_count": 6,
     "metadata": {},
     "output_type": "execute_result"
    }
   ],
   "source": [
    "df.describe()"
   ]
  },
  {
   "cell_type": "code",
   "execution_count": 7,
   "metadata": {},
   "outputs": [
    {
     "data": {
      "text/plain": [
       "Date                    0\n",
       "Open                    0\n",
       "High                    0\n",
       "Low                     0\n",
       "Last                    0\n",
       "Close                   0\n",
       "Total Trade Quantity    0\n",
       "Turnover (Lacs)         0\n",
       "dtype: int64"
      ]
     },
     "execution_count": 7,
     "metadata": {},
     "output_type": "execute_result"
    }
   ],
   "source": [
    "df.isnull().sum()"
   ]
  },
  {
   "cell_type": "code",
   "execution_count": 8,
   "metadata": {},
   "outputs": [
    {
     "data": {
      "text/plain": [
       "Index(['Date', 'Open', 'High', 'Low', 'Last', 'Close', 'Total Trade Quantity',\n",
       "       'Turnover (Lacs)'],\n",
       "      dtype='object')"
      ]
     },
     "execution_count": 8,
     "metadata": {},
     "output_type": "execute_result"
    }
   ],
   "source": [
    "df.columns"
   ]
  },
  {
   "cell_type": "code",
   "execution_count": 9,
   "metadata": {},
   "outputs": [
    {
     "data": {
      "text/plain": [
       "0       233.75\n",
       "1       233.25\n",
       "2       234.25\n",
       "3       236.10\n",
       "4       233.30\n",
       "         ...  \n",
       "2030    118.65\n",
       "2031    117.60\n",
       "2032    120.65\n",
       "2033    120.90\n",
       "2034    121.55\n",
       "Name: Close, Length: 2035, dtype: float64"
      ]
     },
     "execution_count": 9,
     "metadata": {},
     "output_type": "execute_result"
    }
   ],
   "source": [
    "close_df = df.reset_index()['Close']\n",
    "close_df"
   ]
  },
  {
   "cell_type": "code",
   "execution_count": 10,
   "metadata": {},
   "outputs": [
    {
     "data": {
      "image/png": "[encoded data removed]",
      "text/plain": [
       "<Figure size 1080x432 with 1 Axes>"
      ]
     },
     "metadata": {
      "needs_background": "light"
     },
     "output_type": "display_data"
    }
   ],
   "source": [
    "plt.figure(figsize=(15,6))\n",
    "plt.plot(close_df, c = 'r')\n",
    "plt.show()"
   ]
  },
  {
   "cell_type": "code",
   "execution_count": 11,
   "metadata": {},
   "outputs": [
    {
     "data": {
      "image/png": "[encoded data removed]",
      "text/plain": [
       "<Figure size 1080x432 with 1 Axes>"
      ]
     },
     "metadata": {
      "needs_background": "light"
     },
     "output_type": "display_data"
    }
   ],
   "source": [
    "plt.figure(figsize = (15,6))\n",
    "\n",
    "high_df = df.reset_index()['High']\n",
    "plt.plot(high_df,c='r')\n",
    "plt.show()"
   ]
  },
  {
   "cell_type": "code",
   "execution_count": 12,
   "metadata": {},
   "outputs": [],
   "source": [
    "from sklearn.preprocessing import MinMaxScaler\n",
    "scaler = MinMaxScaler(feature_range = (0,1))\n",
    "high_df = scaler.fit_transform(np.array(high_df).reshape(-1,1))\n"
   ]
  },
  {
   "cell_type": "code",
   "execution_count": 13,
   "metadata": {},
   "outputs": [
    {
     "data": {
      "text/plain": [
       "(2035, 1)"
      ]
     },
     "execution_count": 13,
     "metadata": {},
     "output_type": "execute_result"
    }
   ],
   "source": [
    "high_df.shape"
   ]
  },
  {
   "cell_type": "code",
   "execution_count": 14,
   "metadata": {},
   "outputs": [
    {
     "name": "stdout",
     "output_type": "stream",
     "text": [
      "[[0.62268754]\n",
      " [0.62614353]\n",
      " [0.6391543 ]\n",
      " ...\n",
      " [0.15917869]\n",
      " [0.15938199]\n",
      " [0.16344786]]\n"
     ]
    }
   ],
   "source": [
    "print(high_df)"
   ]
  },
  {
   "cell_type": "code",
   "execution_count": 15,
   "metadata": {},
   "outputs": [],
   "source": [
    "training_size = int(len(high_df) * 0.75)\n",
    "test_size = len(high_df) - training_size\n",
    "train_data, test_data = high_df[0:training_size,:], high_df[training_size:len(high_df),:1]"
   ]
  },
  {
   "cell_type": "code",
   "execution_count": 16,
   "metadata": {},
   "outputs": [
    {
     "data": {
      "text/plain": [
       "(1526, 509)"
      ]
     },
     "execution_count": 16,
     "metadata": {},
     "output_type": "execute_result"
    }
   ],
   "source": [
    "training_size, test_size"
   ]
  },
  {
   "cell_type": "code",
   "execution_count": 17,
   "metadata": {},
   "outputs": [],
   "source": [
    "def create_dataset(dataset, time_step = 1):\n",
    "    dataX, dataY = [], []\n",
    "    for i in range(len(dataset) - time_step - 1):\n",
    "        a = dataset[i:(i+time_step), 0]\n",
    "        dataX.append(a)\n",
    "        dataY.append(dataset[i+time_step, 0])\n",
    "    return np.array(dataX), np.array(dataY)"
   ]
  },
  {
   "cell_type": "code",
   "execution_count": 18,
   "metadata": {},
   "outputs": [],
   "source": [
    "time_step = 100\n",
    "x_train, y_train = create_dataset(train_data, time_step)\n",
    "x_test, y_test = create_dataset(test_data, time_step)"
   ]
  },
  {
   "cell_type": "code",
   "execution_count": 19,
   "metadata": {},
   "outputs": [],
   "source": [
    "x_train = x_train.reshape(x_train.shape[0], x_train.shape[1], 1)\n",
    "x_test = x_test.reshape(x_test.shape[0], x_test.shape[1], 1)\n"
   ]
  },
  {
   "cell_type": "code",
   "execution_count": 20,
   "metadata": {},
   "outputs": [
    {
     "name": "stdout",
     "output_type": "stream",
     "text": [
      "(1425, 100, 1)\n",
      "(1425,)\n"
     ]
    },
    {
     "data": {
      "text/plain": [
       "(None, None)"
      ]
     },
     "execution_count": 20,
     "metadata": {},
     "output_type": "execute_result"
    }
   ],
   "source": [
    "print(x_train.shape),print(y_train.shape)"
   ]
  },
  {
   "cell_type": "code",
   "execution_count": 21,
   "metadata": {},
   "outputs": [
    {
     "name": "stdout",
     "output_type": "stream",
     "text": [
      "(408, 100, 1)\n",
      "(408,)\n"
     ]
    },
    {
     "data": {
      "text/plain": [
       "(None, None)"
      ]
     },
     "execution_count": 21,
     "metadata": {},
     "output_type": "execute_result"
    }
   ],
   "source": [
    "print(x_test.shape),print(y_test.shape)"
   ]
  },
  {
   "cell_type": "code",
   "execution_count": 22,
   "metadata": {},
   "outputs": [],
   "source": []
  },
  {
   "cell_type": "code",
   "execution_count": 23,
   "metadata": {},
   "outputs": [
    {
     "data": {
      "text/plain": [
       "'2.9.1'"
      ]
     },
     "execution_count": 23,
     "metadata": {},
     "output_type": "execute_result"
    }
   ],
   "source": [
    "tf.__version__"
   ]
  },
  {
   "cell_type": "code",
   "execution_count": 24,
   "metadata": {},
   "outputs": [],
   "source": [
    "model = Sequential()\n",
    "model.add(LSTM(50, return_sequences = True, input_shape = (100,1)))\n",
    "model.add(LSTM(50, return_sequences = True))\n",
    "model.add(LSTM(50))\n",
    "model.add(Dense(1))\n",
    "model.compile(loss = 'mean_squared_error', optimizer = 'adam')"
   ]
  },
  {
   "cell_type": "code",
   "execution_count": 25,
   "metadata": {},
   "outputs": [
    {
     "name": "stdout",
     "output_type": "stream",
     "text": [
      "Model: \"sequential\"\n",
      "_________________________________________________________________\n",
      "Layer (type)                 Output Shape              Param #   \n",
      "=================================================================\n",
      "lstm (LSTM)                  (None, 100, 50)           10400     \n",
      "_________________________________________________________________\n",
      "lstm_1 (LSTM)                (None, 100, 50)           20200     \n",
      "_________________________________________________________________\n",
      "lstm_2 (LSTM)                (None, 50)                20200     \n",
      "_________________________________________________________________\n",
      "dense (Dense)                (None, 1)                 51        \n",
      "=================================================================\n",
      "Total params: 50,851\n",
      "Trainable params: 50,851\n",
      "Non-trainable params: 0\n",
      "_________________________________________________________________\n"
     ]
    }
   ],
   "source": [
    "model.summary()"
   ]
  },
  {
   "cell_type": "code",
   "execution_count": 26,
   "metadata": {},
   "outputs": [
    {
     "name": "stdout",
     "output_type": "stream",
     "text": [
      "Epoch 1/100\n",
      "23/23 [==============================] - 11s 193ms/step - loss: 0.0301 - val_loss: 0.0060\n",
      "Epoch 2/100\n",
      "23/23 [==============================] - 3s 138ms/step - loss: 0.0036 - val_loss: 0.0016\n",
      "Epoch 3/100\n",
      "23/23 [==============================] - 3s 147ms/step - loss: 0.0014 - val_loss: 0.0013\n",
      "Epoch 4/100\n",
      "23/23 [==============================] - 3s 141ms/step - loss: 0.0014 - val_loss: 0.0016\n",
      "Epoch 5/100\n",
      "23/23 [==============================] - 3s 153ms/step - loss: 0.0013 - val_loss: 0.0013\n",
      "Epoch 6/100\n",
      "23/23 [==============================] - 4s 159ms/step - loss: 0.0012 - val_loss: 0.0014\n",
      "Epoch 7/100\n",
      "23/23 [==============================] - 4s 157ms/step - loss: 0.0012 - val_loss: 0.0012\n",
      "Epoch 8/100\n",
      "23/23 [==============================] - 4s 181ms/step - loss: 0.0014 - val_loss: 0.0019\n",
      "Epoch 9/100\n",
      "23/23 [==============================] - 4s 161ms/step - loss: 0.0012 - val_loss: 0.0013\n",
      "Epoch 10/100\n",
      "23/23 [==============================] - 4s 160ms/step - loss: 0.0010 - val_loss: 9.0249e-04\n",
      "Epoch 11/100\n",
      "23/23 [==============================] - 4s 159ms/step - loss: 9.5867e-04 - val_loss: 9.1870e-04\n",
      "Epoch 12/100\n",
      "23/23 [==============================] - 4s 167ms/step - loss: 9.2403e-04 - val_loss: 7.8757e-04\n",
      "Epoch 13/100\n",
      "23/23 [==============================] - 4s 166ms/step - loss: 8.9461e-04 - val_loss: 9.2352e-04\n",
      "Epoch 14/100\n",
      "23/23 [==============================] - 4s 165ms/step - loss: 8.3387e-04 - val_loss: 7.6960e-04\n",
      "Epoch 15/100\n",
      "23/23 [==============================] - 4s 163ms/step - loss: 8.1558e-04 - val_loss: 8.4715e-04\n",
      "Epoch 16/100\n",
      "23/23 [==============================] - 4s 162ms/step - loss: 8.0655e-04 - val_loss: 6.7655e-04\n",
      "Epoch 17/100\n",
      "23/23 [==============================] - 4s 156ms/step - loss: 7.9190e-04 - val_loss: 6.4027e-04\n",
      "Epoch 18/100\n",
      "23/23 [==============================] - 4s 161ms/step - loss: 7.6105e-04 - val_loss: 7.1933e-04\n",
      "Epoch 19/100\n",
      "23/23 [==============================] - 4s 177ms/step - loss: 7.5500e-04 - val_loss: 8.6042e-04\n",
      "Epoch 20/100\n",
      "23/23 [==============================] - 4s 176ms/step - loss: 7.0869e-04 - val_loss: 7.8941e-04\n",
      "Epoch 21/100\n",
      "23/23 [==============================] - 4s 160ms/step - loss: 8.8380e-04 - val_loss: 6.5178e-04\n",
      "Epoch 22/100\n",
      "23/23 [==============================] - 4s 156ms/step - loss: 6.8628e-04 - val_loss: 7.7856e-04\n",
      "Epoch 23/100\n",
      "23/23 [==============================] - 4s 159ms/step - loss: 6.8070e-04 - val_loss: 5.9886e-04\n",
      "Epoch 24/100\n",
      "23/23 [==============================] - 4s 155ms/step - loss: 7.1859e-04 - val_loss: 6.5872e-04\n",
      "Epoch 25/100\n",
      "23/23 [==============================] - 4s 158ms/step - loss: 6.5711e-04 - val_loss: 7.4134e-04\n",
      "Epoch 26/100\n",
      "23/23 [==============================] - 4s 158ms/step - loss: 6.6089e-04 - val_loss: 8.2054e-04\n",
      "Epoch 27/100\n",
      "23/23 [==============================] - 4s 157ms/step - loss: 7.2130e-04 - val_loss: 6.4448e-04\n",
      "Epoch 28/100\n",
      "23/23 [==============================] - 4s 154ms/step - loss: 6.5565e-04 - val_loss: 7.8480e-04\n",
      "Epoch 29/100\n",
      "23/23 [==============================] - 4s 160ms/step - loss: 6.1046e-04 - val_loss: 7.1151e-04\n",
      "Epoch 30/100\n",
      "23/23 [==============================] - 4s 163ms/step - loss: 6.0482e-04 - val_loss: 6.6385e-04\n",
      "Epoch 31/100\n",
      "23/23 [==============================] - 4s 166ms/step - loss: 5.9954e-04 - val_loss: 6.2571e-04\n",
      "Epoch 32/100\n",
      "23/23 [==============================] - 4s 156ms/step - loss: 5.7736e-04 - val_loss: 8.3018e-04\n",
      "Epoch 33/100\n",
      "23/23 [==============================] - 4s 157ms/step - loss: 5.6980e-04 - val_loss: 8.9541e-04\n",
      "Epoch 34/100\n",
      "23/23 [==============================] - 4s 161ms/step - loss: 5.8361e-04 - val_loss: 7.3354e-04\n",
      "Epoch 35/100\n",
      "23/23 [==============================] - 4s 165ms/step - loss: 5.3857e-04 - val_loss: 6.4995e-04\n",
      "Epoch 36/100\n",
      "23/23 [==============================] - 4s 161ms/step - loss: 5.6881e-04 - val_loss: 7.3117e-04\n",
      "Epoch 37/100\n",
      "23/23 [==============================] - 4s 160ms/step - loss: 5.2961e-04 - val_loss: 6.6154e-04\n",
      "Epoch 38/100\n",
      "23/23 [==============================] - 4s 168ms/step - loss: 5.4881e-04 - val_loss: 8.3585e-04\n",
      "Epoch 39/100\n",
      "23/23 [==============================] - 4s 163ms/step - loss: 5.7722e-04 - val_loss: 8.1083e-04\n",
      "Epoch 40/100\n",
      "23/23 [==============================] - 4s 164ms/step - loss: 6.0703e-04 - val_loss: 5.5373e-04\n",
      "Epoch 41/100\n",
      "23/23 [==============================] - 4s 165ms/step - loss: 5.2239e-04 - val_loss: 6.0483e-04\n",
      "Epoch 42/100\n",
      "23/23 [==============================] - 4s 170ms/step - loss: 5.2512e-04 - val_loss: 7.0640e-04\n",
      "Epoch 43/100\n",
      "23/23 [==============================] - 4s 162ms/step - loss: 4.9728e-04 - val_loss: 5.1414e-04\n",
      "Epoch 44/100\n",
      "23/23 [==============================] - 4s 162ms/step - loss: 4.7413e-04 - val_loss: 6.3353e-04\n",
      "Epoch 45/100\n",
      "23/23 [==============================] - 4s 159ms/step - loss: 4.6267e-04 - val_loss: 7.1202e-04\n",
      "Epoch 46/100\n",
      "23/23 [==============================] - 4s 161ms/step - loss: 5.0332e-04 - val_loss: 5.0873e-04\n",
      "Epoch 47/100\n",
      "23/23 [==============================] - 4s 163ms/step - loss: 4.5541e-04 - val_loss: 5.5666e-04\n",
      "Epoch 48/100\n",
      "23/23 [==============================] - 4s 158ms/step - loss: 4.5455e-04 - val_loss: 5.0862e-04\n",
      "Epoch 49/100\n",
      "23/23 [==============================] - 4s 162ms/step - loss: 4.3543e-04 - val_loss: 4.2169e-04\n",
      "Epoch 50/100\n",
      "23/23 [==============================] - 4s 157ms/step - loss: 4.3170e-04 - val_loss: 5.4566e-04\n",
      "Epoch 51/100\n",
      "23/23 [==============================] - 4s 161ms/step - loss: 4.2337e-04 - val_loss: 4.2117e-04\n",
      "Epoch 52/100\n",
      "23/23 [==============================] - 4s 156ms/step - loss: 4.0615e-04 - val_loss: 4.0230e-04\n",
      "Epoch 53/100\n",
      "23/23 [==============================] - 4s 155ms/step - loss: 5.0281e-04 - val_loss: 3.7673e-04\n",
      "Epoch 54/100\n",
      "23/23 [==============================] - 4s 154ms/step - loss: 6.4293e-04 - val_loss: 4.9386e-04\n",
      "Epoch 55/100\n",
      "23/23 [==============================] - 4s 156ms/step - loss: 3.9188e-04 - val_loss: 3.3787e-04\n",
      "Epoch 56/100\n",
      "23/23 [==============================] - 3s 150ms/step - loss: 4.3640e-04 - val_loss: 3.9238e-04\n",
      "Epoch 57/100\n",
      "23/23 [==============================] - 3s 150ms/step - loss: 4.1847e-04 - val_loss: 4.8774e-04\n",
      "Epoch 58/100\n",
      "23/23 [==============================] - 3s 145ms/step - loss: 3.7862e-04 - val_loss: 4.2074e-04\n",
      "Epoch 59/100\n",
      "23/23 [==============================] - 3s 146ms/step - loss: 3.6817e-04 - val_loss: 3.1962e-04\n",
      "Epoch 60/100\n",
      "23/23 [==============================] - 4s 153ms/step - loss: 4.0681e-04 - val_loss: 4.0387e-04\n",
      "Epoch 61/100\n",
      "23/23 [==============================] - 3s 150ms/step - loss: 3.6633e-04 - val_loss: 3.5428e-04\n",
      "Epoch 62/100\n",
      "23/23 [==============================] - 3s 146ms/step - loss: 3.9342e-04 - val_loss: 3.3801e-04\n",
      "Epoch 63/100\n",
      "23/23 [==============================] - 3s 149ms/step - loss: 3.2947e-04 - val_loss: 3.0481e-04\n",
      "Epoch 64/100\n",
      "23/23 [==============================] - 3s 144ms/step - loss: 3.3517e-04 - val_loss: 3.1950e-04\n",
      "Epoch 65/100\n",
      "23/23 [==============================] - 4s 155ms/step - loss: 3.4145e-04 - val_loss: 3.4501e-04\n",
      "Epoch 66/100\n",
      "23/23 [==============================] - 3s 148ms/step - loss: 3.0241e-04 - val_loss: 4.7079e-04\n",
      "Epoch 67/100\n",
      "23/23 [==============================] - 3s 149ms/step - loss: 3.3393e-04 - val_loss: 3.1239e-04\n",
      "Epoch 68/100\n",
      "23/23 [==============================] - 4s 154ms/step - loss: 2.9827e-04 - val_loss: 3.2223e-04\n",
      "Epoch 69/100\n",
      "23/23 [==============================] - 4s 154ms/step - loss: 2.8349e-04 - val_loss: 3.6280e-04\n",
      "Epoch 70/100\n",
      "23/23 [==============================] - 3s 150ms/step - loss: 3.0945e-04 - val_loss: 3.0135e-04\n",
      "Epoch 71/100\n",
      "23/23 [==============================] - 3s 151ms/step - loss: 3.4423e-04 - val_loss: 3.1269e-04\n",
      "Epoch 72/100\n",
      "23/23 [==============================] - 3s 151ms/step - loss: 3.1898e-04 - val_loss: 3.4630e-04\n",
      "Epoch 73/100\n",
      "23/23 [==============================] - 3s 149ms/step - loss: 2.7550e-04 - val_loss: 3.1824e-04\n",
      "Epoch 74/100\n",
      "23/23 [==============================] - 4s 156ms/step - loss: 2.7360e-04 - val_loss: 3.2989e-04\n",
      "Epoch 75/100\n",
      "23/23 [==============================] - 3s 148ms/step - loss: 2.7201e-04 - val_loss: 2.8825e-04\n",
      "Epoch 76/100\n"
     ]
    },
    {
     "name": "stdout",
     "output_type": "stream",
     "text": [
      "23/23 [==============================] - 3s 149ms/step - loss: 2.6012e-04 - val_loss: 3.4780e-04\n",
      "Epoch 77/100\n",
      "23/23 [==============================] - 3s 146ms/step - loss: 2.7589e-04 - val_loss: 2.8517e-04\n",
      "Epoch 78/100\n",
      "23/23 [==============================] - 3s 150ms/step - loss: 2.4894e-04 - val_loss: 3.3813e-04\n",
      "Epoch 79/100\n",
      "23/23 [==============================] - 3s 152ms/step - loss: 2.5892e-04 - val_loss: 3.8157e-04\n",
      "Epoch 80/100\n",
      "23/23 [==============================] - 3s 148ms/step - loss: 2.5280e-04 - val_loss: 4.0676e-04\n",
      "Epoch 81/100\n",
      "23/23 [==============================] - 3s 150ms/step - loss: 2.6361e-04 - val_loss: 2.3527e-04\n",
      "Epoch 82/100\n",
      "23/23 [==============================] - 3s 152ms/step - loss: 3.7546e-04 - val_loss: 2.3766e-04\n",
      "Epoch 83/100\n",
      "23/23 [==============================] - 4s 156ms/step - loss: 2.6736e-04 - val_loss: 2.2180e-04\n",
      "Epoch 84/100\n",
      "23/23 [==============================] - 3s 150ms/step - loss: 2.4232e-04 - val_loss: 2.6304e-04\n",
      "Epoch 85/100\n",
      "23/23 [==============================] - 3s 152ms/step - loss: 2.2670e-04 - val_loss: 2.9863e-04\n",
      "Epoch 86/100\n",
      "23/23 [==============================] - 3s 150ms/step - loss: 2.3697e-04 - val_loss: 2.6539e-04\n",
      "Epoch 87/100\n",
      "23/23 [==============================] - 3s 148ms/step - loss: 2.3696e-04 - val_loss: 2.2432e-04\n",
      "Epoch 88/100\n",
      "23/23 [==============================] - 4s 155ms/step - loss: 2.3426e-04 - val_loss: 2.2469e-04\n",
      "Epoch 89/100\n",
      "23/23 [==============================] - 4s 155ms/step - loss: 2.6457e-04 - val_loss: 2.8645e-04\n",
      "Epoch 90/100\n",
      "23/23 [==============================] - 3s 147ms/step - loss: 2.3495e-04 - val_loss: 2.1131e-04\n",
      "Epoch 91/100\n",
      "23/23 [==============================] - 3s 147ms/step - loss: 2.1649e-04 - val_loss: 2.1184e-04\n",
      "Epoch 92/100\n",
      "23/23 [==============================] - 3s 152ms/step - loss: 2.2577e-04 - val_loss: 2.2739e-04\n",
      "Epoch 93/100\n",
      "23/23 [==============================] - 3s 148ms/step - loss: 2.0513e-04 - val_loss: 2.4163e-04\n",
      "Epoch 94/100\n",
      "23/23 [==============================] - 4s 153ms/step - loss: 2.3625e-04 - val_loss: 3.1169e-04\n",
      "Epoch 95/100\n",
      "23/23 [==============================] - 3s 152ms/step - loss: 2.3479e-04 - val_loss: 2.1072e-04\n",
      "Epoch 96/100\n",
      "23/23 [==============================] - 3s 148ms/step - loss: 2.0592e-04 - val_loss: 1.7996e-04\n",
      "Epoch 97/100\n",
      "23/23 [==============================] - 3s 151ms/step - loss: 2.1376e-04 - val_loss: 2.2214e-04\n",
      "Epoch 98/100\n",
      "23/23 [==============================] - 3s 146ms/step - loss: 2.2420e-04 - val_loss: 2.0607e-04\n",
      "Epoch 99/100\n",
      "23/23 [==============================] - 4s 153ms/step - loss: 2.2683e-04 - val_loss: 2.7280e-04\n",
      "Epoch 100/100\n",
      "23/23 [==============================] - 3s 150ms/step - loss: 2.0827e-04 - val_loss: 2.8160e-04\n"
     ]
    },
    {
     "data": {
      "text/plain": [
       "<tensorflow.python.keras.callbacks.History at 0x1baf6906040>"
      ]
     },
     "execution_count": 26,
     "metadata": {},
     "output_type": "execute_result"
    }
   ],
   "source": [
    "model.fit(x_train, y_train, validation_data = (x_test, y_test), epochs = 100, batch_size = 64, verbose = 1)\n",
    "#One Epoch is when an ENTIRE dataset is passed forward and backward through the neural network only ONCE"
   ]
  },
  {
   "cell_type": "code",
   "execution_count": 27,
   "metadata": {},
   "outputs": [],
   "source": [
    "# prediction and checking of performance matrix\n",
    "train_predict = model.predict(x_train)\n",
    "test_predict = model.predict(x_test)"
   ]
  },
  {
   "cell_type": "code",
   "execution_count": 28,
   "metadata": {},
   "outputs": [],
   "source": [
    "#Transform back to original form\n",
    "train_predict = scaler.inverse_transform(train_predict)\n",
    "test_predict = scaler.inverse_transform(test_predict)"
   ]
  },
  {
   "cell_type": "code",
   "execution_count": 29,
   "metadata": {},
   "outputs": [
    {
     "data": {
      "text/plain": [
       "168.07953125640364"
      ]
     },
     "execution_count": 29,
     "metadata": {},
     "output_type": "execute_result"
    }
   ],
   "source": [
    "#Calculate RMSE performance metrics\n",
    "math.sqrt(mean_squared_error(y_train, train_predict))"
   ]
  },
  {
   "cell_type": "code",
   "execution_count": 30,
   "metadata": {},
   "outputs": [
    {
     "data": {
      "text/plain": [
       "109.16180943858069"
      ]
     },
     "execution_count": 30,
     "metadata": {},
     "output_type": "execute_result"
    }
   ],
   "source": [
    "math.sqrt(mean_squared_error(y_test, test_predict))"
   ]
  },
  {
   "cell_type": "code",
   "execution_count": 31,
   "metadata": {},
   "outputs": [],
   "source": [
    "#Plotting\n",
    "\n",
    "#Shift train prediction for plotting\n",
    "look_back = 100\n",
    "trainPredictPlot = np.empty_like(high_df)\n",
    "trainPredictPlot[:,:] = np.nan\n",
    "trainPredictPlot[look_back:len(train_predict) + look_back, :] = train_predict\n",
    "\n",
    "#Shift test prediction for plotting\n",
    "testPredictPlot = np.empty_like(high_df)\n",
    "testPredictPlot[:,:] = np.nan\n",
    "testPredictPlot[len(train_predict) + (look_back * 2)+1:len(high_df) - 1, :] = test_predict"
   ]
  },
  {
   "cell_type": "code",
   "execution_count": 32,
   "metadata": {},
   "outputs": [
    {
     "data": {
      "image/png": "[encoded data removed]",
      "text/plain": [
       "<Figure size 720x432 with 1 Axes>"
      ]
     },
     "metadata": {
      "needs_background": "light"
     },
     "output_type": "display_data"
    },
    {
     "name": "stdout",
     "output_type": "stream",
     "text": [
      "Green indicates the Predicted Data\n",
      "Blue indicates the Complete Data\n",
      "Orange indicates the Train Data\n"
     ]
    }
   ],
   "source": [
    "#Plot baseline and predictions\n",
    "plt.figure(figsize=(10,6))\n",
    "\n",
    "plt.plot(scaler.inverse_transform(high_df))\n",
    "plt.plot(trainPredictPlot)\n",
    "plt.plot(testPredictPlot)\n",
    "plt.show()\n",
    "\n",
    "print(\"Green indicates the Predicted Data\")\n",
    "print(\"Blue indicates the Complete Data\")\n",
    "print(\"Orange indicates the Train Data\")"
   ]
  },
  {
   "cell_type": "code",
   "execution_count": 33,
   "metadata": {},
   "outputs": [
    {
     "data": {
      "text/plain": [
       "(509, (408, 100, 1))"
      ]
     },
     "execution_count": 33,
     "metadata": {},
     "output_type": "execute_result"
    }
   ],
   "source": [
    "#Predict the next 28 days Stock Price\n",
    "len(test_data), x_test.shape"
   ]
  },
  {
   "cell_type": "code",
   "execution_count": 34,
   "metadata": {},
   "outputs": [
    {
     "data": {
      "text/plain": [
       "(1, 100)"
      ]
     },
     "execution_count": 34,
     "metadata": {},
     "output_type": "execute_result"
    }
   ],
   "source": [
    "x_input = test_data[409:].reshape(1,-1)\n",
    "x_input.shape"
   ]
  },
  {
   "cell_type": "code",
   "execution_count": 35,
   "metadata": {},
   "outputs": [
    {
     "name": "stdout",
     "output_type": "stream",
     "text": [
      "[0.16827482]\n",
      "101\n",
      "1 day input [0.13254727 0.13397032 0.13356373 0.13498679 0.14108559 0.13498679\n",
      " 0.12644847 0.12685505 0.12482212 0.14515145 0.1467778  0.15003049\n",
      " 0.15368977 0.17198618 0.16548079 0.17625534 0.17564546 0.19129904\n",
      " 0.20817239 0.20309006 0.18479366 0.17930474 0.1896727  0.17483228\n",
      " 0.17849156 0.17645863 0.18540354 0.18377719 0.19190892 0.18987599\n",
      " 0.19028258 0.19394186 0.20004066 0.19638138 0.19495832 0.20349665\n",
      " 0.19597479 0.21162838 0.22036999 0.20979874 0.21528766 0.21589754\n",
      " 0.21610083 0.22748526 0.19150234 0.1833706  0.17340923 0.16751372\n",
      " 0.1622281  0.17056312 0.17462899 0.17930474 0.18174426 0.16853019\n",
      " 0.16548079 0.1742224  0.1713763  0.17300264 0.17157959 0.17767839\n",
      " 0.18459036 0.18702988 0.18987599 0.19109575 0.18581012 0.17015654\n",
      " 0.16751372 0.16974995 0.16609067 0.15531612 0.15003049 0.15064037\n",
      " 0.14860744 0.14596463 0.15043708 0.14413499 0.12441553 0.12827811\n",
      " 0.11547062 0.12034966 0.13478349 0.13498679 0.12868469 0.13295385\n",
      " 0.12807481 0.12624517 0.13051433 0.13905265 0.14718439 0.15104696\n",
      " 0.14515145 0.14311852 0.15816223 0.15328319 0.14921732 0.15531612\n",
      " 0.15917869 0.15938199 0.16344786 0.16827482]\n",
      "1 day output [[0.17197919]]\n",
      "2 day input [0.13397032 0.13356373 0.13498679 0.14108559 0.13498679 0.12644847\n",
      " 0.12685505 0.12482212 0.14515145 0.1467778  0.15003049 0.15368977\n",
      " 0.17198618 0.16548079 0.17625534 0.17564546 0.19129904 0.20817239\n",
      " 0.20309006 0.18479366 0.17930474 0.1896727  0.17483228 0.17849156\n",
      " 0.17645863 0.18540354 0.18377719 0.19190892 0.18987599 0.19028258\n",
      " 0.19394186 0.20004066 0.19638138 0.19495832 0.20349665 0.19597479\n",
      " 0.21162838 0.22036999 0.20979874 0.21528766 0.21589754 0.21610083\n",
      " 0.22748526 0.19150234 0.1833706  0.17340923 0.16751372 0.1622281\n",
      " 0.17056312 0.17462899 0.17930474 0.18174426 0.16853019 0.16548079\n",
      " 0.1742224  0.1713763  0.17300264 0.17157959 0.17767839 0.18459036\n",
      " 0.18702988 0.18987599 0.19109575 0.18581012 0.17015654 0.16751372\n",
      " 0.16974995 0.16609067 0.15531612 0.15003049 0.15064037 0.14860744\n",
      " 0.14596463 0.15043708 0.14413499 0.12441553 0.12827811 0.11547062\n",
      " 0.12034966 0.13478349 0.13498679 0.12868469 0.13295385 0.12807481\n",
      " 0.12624517 0.13051433 0.13905265 0.14718439 0.15104696 0.14515145\n",
      " 0.14311852 0.15816223 0.15328319 0.14921732 0.15531612 0.15917869\n",
      " 0.15938199 0.16344786 0.16827482 0.17197919]\n",
      "2 day output [[0.17605256]]\n",
      "3 day input [0.13356373 0.13498679 0.14108559 0.13498679 0.12644847 0.12685505\n",
      " 0.12482212 0.14515145 0.1467778  0.15003049 0.15368977 0.17198618\n",
      " 0.16548079 0.17625534 0.17564546 0.19129904 0.20817239 0.20309006\n",
      " 0.18479366 0.17930474 0.1896727  0.17483228 0.17849156 0.17645863\n",
      " 0.18540354 0.18377719 0.19190892 0.18987599 0.19028258 0.19394186\n",
      " 0.20004066 0.19638138 0.19495832 0.20349665 0.19597479 0.21162838\n",
      " 0.22036999 0.20979874 0.21528766 0.21589754 0.21610083 0.22748526\n",
      " 0.19150234 0.1833706  0.17340923 0.16751372 0.1622281  0.17056312\n",
      " 0.17462899 0.17930474 0.18174426 0.16853019 0.16548079 0.1742224\n",
      " 0.1713763  0.17300264 0.17157959 0.17767839 0.18459036 0.18702988\n",
      " 0.18987599 0.19109575 0.18581012 0.17015654 0.16751372 0.16974995\n",
      " 0.16609067 0.15531612 0.15003049 0.15064037 0.14860744 0.14596463\n",
      " 0.15043708 0.14413499 0.12441553 0.12827811 0.11547062 0.12034966\n",
      " 0.13478349 0.13498679 0.12868469 0.13295385 0.12807481 0.12624517\n",
      " 0.13051433 0.13905265 0.14718439 0.15104696 0.14515145 0.14311852\n",
      " 0.15816223 0.15328319 0.14921732 0.15531612 0.15917869 0.15938199\n",
      " 0.16344786 0.16827482 0.17197919 0.17605256]\n",
      "3 day output [[0.18019883]]\n",
      "4 day input [0.13498679 0.14108559 0.13498679 0.12644847 0.12685505 0.12482212\n",
      " 0.14515145 0.1467778  0.15003049 0.15368977 0.17198618 0.16548079\n",
      " 0.17625534 0.17564546 0.19129904 0.20817239 0.20309006 0.18479366\n",
      " 0.17930474 0.1896727  0.17483228 0.17849156 0.17645863 0.18540354\n",
      " 0.18377719 0.19190892 0.18987599 0.19028258 0.19394186 0.20004066\n",
      " 0.19638138 0.19495832 0.20349665 0.19597479 0.21162838 0.22036999\n",
      " 0.20979874 0.21528766 0.21589754 0.21610083 0.22748526 0.19150234\n",
      " 0.1833706  0.17340923 0.16751372 0.1622281  0.17056312 0.17462899\n",
      " 0.17930474 0.18174426 0.16853019 0.16548079 0.1742224  0.1713763\n",
      " 0.17300264 0.17157959 0.17767839 0.18459036 0.18702988 0.18987599\n",
      " 0.19109575 0.18581012 0.17015654 0.16751372 0.16974995 0.16609067\n",
      " 0.15531612 0.15003049 0.15064037 0.14860744 0.14596463 0.15043708\n",
      " 0.14413499 0.12441553 0.12827811 0.11547062 0.12034966 0.13478349\n",
      " 0.13498679 0.12868469 0.13295385 0.12807481 0.12624517 0.13051433\n",
      " 0.13905265 0.14718439 0.15104696 0.14515145 0.14311852 0.15816223\n",
      " 0.15328319 0.14921732 0.15531612 0.15917869 0.15938199 0.16344786\n",
      " 0.16827482 0.17197919 0.17605256 0.18019883]\n",
      "4 day output [[0.18429622]]\n",
      "5 day input [0.14108559 0.13498679 0.12644847 0.12685505 0.12482212 0.14515145\n",
      " 0.1467778  0.15003049 0.15368977 0.17198618 0.16548079 0.17625534\n",
      " 0.17564546 0.19129904 0.20817239 0.20309006 0.18479366 0.17930474\n",
      " 0.1896727  0.17483228 0.17849156 0.17645863 0.18540354 0.18377719\n",
      " 0.19190892 0.18987599 0.19028258 0.19394186 0.20004066 0.19638138\n",
      " 0.19495832 0.20349665 0.19597479 0.21162838 0.22036999 0.20979874\n",
      " 0.21528766 0.21589754 0.21610083 0.22748526 0.19150234 0.1833706\n",
      " 0.17340923 0.16751372 0.1622281  0.17056312 0.17462899 0.17930474\n",
      " 0.18174426 0.16853019 0.16548079 0.1742224  0.1713763  0.17300264\n",
      " 0.17157959 0.17767839 0.18459036 0.18702988 0.18987599 0.19109575\n",
      " 0.18581012 0.17015654 0.16751372 0.16974995 0.16609067 0.15531612\n",
      " 0.15003049 0.15064037 0.14860744 0.14596463 0.15043708 0.14413499\n",
      " 0.12441553 0.12827811 0.11547062 0.12034966 0.13478349 0.13498679\n",
      " 0.12868469 0.13295385 0.12807481 0.12624517 0.13051433 0.13905265\n",
      " 0.14718439 0.15104696 0.14515145 0.14311852 0.15816223 0.15328319\n",
      " 0.14921732 0.15531612 0.15917869 0.15938199 0.16344786 0.16827482\n",
      " 0.17197919 0.17605256 0.18019883 0.18429622]\n",
      "5 day output [[0.18830557]]\n",
      "6 day input [0.13498679 0.12644847 0.12685505 0.12482212 0.14515145 0.1467778\n",
      " 0.15003049 0.15368977 0.17198618 0.16548079 0.17625534 0.17564546\n",
      " 0.19129904 0.20817239 0.20309006 0.18479366 0.17930474 0.1896727\n",
      " 0.17483228 0.17849156 0.17645863 0.18540354 0.18377719 0.19190892\n",
      " 0.18987599 0.19028258 0.19394186 0.20004066 0.19638138 0.19495832\n",
      " 0.20349665 0.19597479 0.21162838 0.22036999 0.20979874 0.21528766\n",
      " 0.21589754 0.21610083 0.22748526 0.19150234 0.1833706  0.17340923\n",
      " 0.16751372 0.1622281  0.17056312 0.17462899 0.17930474 0.18174426\n",
      " 0.16853019 0.16548079 0.1742224  0.1713763  0.17300264 0.17157959\n",
      " 0.17767839 0.18459036 0.18702988 0.18987599 0.19109575 0.18581012\n",
      " 0.17015654 0.16751372 0.16974995 0.16609067 0.15531612 0.15003049\n",
      " 0.15064037 0.14860744 0.14596463 0.15043708 0.14413499 0.12441553\n",
      " 0.12827811 0.11547062 0.12034966 0.13478349 0.13498679 0.12868469\n",
      " 0.13295385 0.12807481 0.12624517 0.13051433 0.13905265 0.14718439\n",
      " 0.15104696 0.14515145 0.14311852 0.15816223 0.15328319 0.14921732\n",
      " 0.15531612 0.15917869 0.15938199 0.16344786 0.16827482 0.17197919\n",
      " 0.17605256 0.18019883 0.18429622 0.18830557]\n",
      "6 day output [[0.19221826]]\n",
      "7 day input [0.12644847 0.12685505 0.12482212 0.14515145 0.1467778  0.15003049\n",
      " 0.15368977 0.17198618 0.16548079 0.17625534 0.17564546 0.19129904\n",
      " 0.20817239 0.20309006 0.18479366 0.17930474 0.1896727  0.17483228\n",
      " 0.17849156 0.17645863 0.18540354 0.18377719 0.19190892 0.18987599\n",
      " 0.19028258 0.19394186 0.20004066 0.19638138 0.19495832 0.20349665\n",
      " 0.19597479 0.21162838 0.22036999 0.20979874 0.21528766 0.21589754\n",
      " 0.21610083 0.22748526 0.19150234 0.1833706  0.17340923 0.16751372\n",
      " 0.1622281  0.17056312 0.17462899 0.17930474 0.18174426 0.16853019\n",
      " 0.16548079 0.1742224  0.1713763  0.17300264 0.17157959 0.17767839\n",
      " 0.18459036 0.18702988 0.18987599 0.19109575 0.18581012 0.17015654\n",
      " 0.16751372 0.16974995 0.16609067 0.15531612 0.15003049 0.15064037\n",
      " 0.14860744 0.14596463 0.15043708 0.14413499 0.12441553 0.12827811\n",
      " 0.11547062 0.12034966 0.13478349 0.13498679 0.12868469 0.13295385\n",
      " 0.12807481 0.12624517 0.13051433 0.13905265 0.14718439 0.15104696\n",
      " 0.14515145 0.14311852 0.15816223 0.15328319 0.14921732 0.15531612\n",
      " 0.15917869 0.15938199 0.16344786 0.16827482 0.17197919 0.17605256\n",
      " 0.18019883 0.18429622 0.18830557 0.19221826]\n",
      "7 day output [[0.1960369]]\n",
      "8 day input [0.12685505 0.12482212 0.14515145 0.1467778  0.15003049 0.15368977\n",
      " 0.17198618 0.16548079 0.17625534 0.17564546 0.19129904 0.20817239\n",
      " 0.20309006 0.18479366 0.17930474 0.1896727  0.17483228 0.17849156\n",
      " 0.17645863 0.18540354 0.18377719 0.19190892 0.18987599 0.19028258\n",
      " 0.19394186 0.20004066 0.19638138 0.19495832 0.20349665 0.19597479\n",
      " 0.21162838 0.22036999 0.20979874 0.21528766 0.21589754 0.21610083\n",
      " 0.22748526 0.19150234 0.1833706  0.17340923 0.16751372 0.1622281\n",
      " 0.17056312 0.17462899 0.17930474 0.18174426 0.16853019 0.16548079\n",
      " 0.1742224  0.1713763  0.17300264 0.17157959 0.17767839 0.18459036\n",
      " 0.18702988 0.18987599 0.19109575 0.18581012 0.17015654 0.16751372\n",
      " 0.16974995 0.16609067 0.15531612 0.15003049 0.15064037 0.14860744\n",
      " 0.14596463 0.15043708 0.14413499 0.12441553 0.12827811 0.11547062\n",
      " 0.12034966 0.13478349 0.13498679 0.12868469 0.13295385 0.12807481\n",
      " 0.12624517 0.13051433 0.13905265 0.14718439 0.15104696 0.14515145\n",
      " 0.14311852 0.15816223 0.15328319 0.14921732 0.15531612 0.15917869\n",
      " 0.15938199 0.16344786 0.16827482 0.17197919 0.17605256 0.18019883\n",
      " 0.18429622 0.18830557 0.19221826 0.19603691]\n",
      "8 day output [[0.19976926]]\n",
      "9 day input [0.12482212 0.14515145 0.1467778  0.15003049 0.15368977 0.17198618\n",
      " 0.16548079 0.17625534 0.17564546 0.19129904 0.20817239 0.20309006\n",
      " 0.18479366 0.17930474 0.1896727  0.17483228 0.17849156 0.17645863\n",
      " 0.18540354 0.18377719 0.19190892 0.18987599 0.19028258 0.19394186\n",
      " 0.20004066 0.19638138 0.19495832 0.20349665 0.19597479 0.21162838\n",
      " 0.22036999 0.20979874 0.21528766 0.21589754 0.21610083 0.22748526\n",
      " 0.19150234 0.1833706  0.17340923 0.16751372 0.1622281  0.17056312\n",
      " 0.17462899 0.17930474 0.18174426 0.16853019 0.16548079 0.1742224\n",
      " 0.1713763  0.17300264 0.17157959 0.17767839 0.18459036 0.18702988\n",
      " 0.18987599 0.19109575 0.18581012 0.17015654 0.16751372 0.16974995\n",
      " 0.16609067 0.15531612 0.15003049 0.15064037 0.14860744 0.14596463\n",
      " 0.15043708 0.14413499 0.12441553 0.12827811 0.11547062 0.12034966\n",
      " 0.13478349 0.13498679 0.12868469 0.13295385 0.12807481 0.12624517\n",
      " 0.13051433 0.13905265 0.14718439 0.15104696 0.14515145 0.14311852\n",
      " 0.15816223 0.15328319 0.14921732 0.15531612 0.15917869 0.15938199\n",
      " 0.16344786 0.16827482 0.17197919 0.17605256 0.18019883 0.18429622\n",
      " 0.18830557 0.19221826 0.19603691 0.19976926]\n"
     ]
    },
    {
     "name": "stdout",
     "output_type": "stream",
     "text": [
      "9 day output [[0.20342539]]\n",
      "10 day input [0.14515145 0.1467778  0.15003049 0.15368977 0.17198618 0.16548079\n",
      " 0.17625534 0.17564546 0.19129904 0.20817239 0.20309006 0.18479366\n",
      " 0.17930474 0.1896727  0.17483228 0.17849156 0.17645863 0.18540354\n",
      " 0.18377719 0.19190892 0.18987599 0.19028258 0.19394186 0.20004066\n",
      " 0.19638138 0.19495832 0.20349665 0.19597479 0.21162838 0.22036999\n",
      " 0.20979874 0.21528766 0.21589754 0.21610083 0.22748526 0.19150234\n",
      " 0.1833706  0.17340923 0.16751372 0.1622281  0.17056312 0.17462899\n",
      " 0.17930474 0.18174426 0.16853019 0.16548079 0.1742224  0.1713763\n",
      " 0.17300264 0.17157959 0.17767839 0.18459036 0.18702988 0.18987599\n",
      " 0.19109575 0.18581012 0.17015654 0.16751372 0.16974995 0.16609067\n",
      " 0.15531612 0.15003049 0.15064037 0.14860744 0.14596463 0.15043708\n",
      " 0.14413499 0.12441553 0.12827811 0.11547062 0.12034966 0.13478349\n",
      " 0.13498679 0.12868469 0.13295385 0.12807481 0.12624517 0.13051433\n",
      " 0.13905265 0.14718439 0.15104696 0.14515145 0.14311852 0.15816223\n",
      " 0.15328319 0.14921732 0.15531612 0.15917869 0.15938199 0.16344786\n",
      " 0.16827482 0.17197919 0.17605256 0.18019883 0.18429622 0.18830557\n",
      " 0.19221826 0.19603691 0.19976926 0.20342539]\n",
      "10 day output [[0.20701633]]\n",
      "11 day input [0.1467778  0.15003049 0.15368977 0.17198618 0.16548079 0.17625534\n",
      " 0.17564546 0.19129904 0.20817239 0.20309006 0.18479366 0.17930474\n",
      " 0.1896727  0.17483228 0.17849156 0.17645863 0.18540354 0.18377719\n",
      " 0.19190892 0.18987599 0.19028258 0.19394186 0.20004066 0.19638138\n",
      " 0.19495832 0.20349665 0.19597479 0.21162838 0.22036999 0.20979874\n",
      " 0.21528766 0.21589754 0.21610083 0.22748526 0.19150234 0.1833706\n",
      " 0.17340923 0.16751372 0.1622281  0.17056312 0.17462899 0.17930474\n",
      " 0.18174426 0.16853019 0.16548079 0.1742224  0.1713763  0.17300264\n",
      " 0.17157959 0.17767839 0.18459036 0.18702988 0.18987599 0.19109575\n",
      " 0.18581012 0.17015654 0.16751372 0.16974995 0.16609067 0.15531612\n",
      " 0.15003049 0.15064037 0.14860744 0.14596463 0.15043708 0.14413499\n",
      " 0.12441553 0.12827811 0.11547062 0.12034966 0.13478349 0.13498679\n",
      " 0.12868469 0.13295385 0.12807481 0.12624517 0.13051433 0.13905265\n",
      " 0.14718439 0.15104696 0.14515145 0.14311852 0.15816223 0.15328319\n",
      " 0.14921732 0.15531612 0.15917869 0.15938199 0.16344786 0.16827482\n",
      " 0.17197919 0.17605256 0.18019883 0.18429622 0.18830557 0.19221826\n",
      " 0.19603691 0.19976926 0.20342539 0.20701633]\n",
      "11 day output [[0.21055284]]\n",
      "12 day input [0.15003049 0.15368977 0.17198618 0.16548079 0.17625534 0.17564546\n",
      " 0.19129904 0.20817239 0.20309006 0.18479366 0.17930474 0.1896727\n",
      " 0.17483228 0.17849156 0.17645863 0.18540354 0.18377719 0.19190892\n",
      " 0.18987599 0.19028258 0.19394186 0.20004066 0.19638138 0.19495832\n",
      " 0.20349665 0.19597479 0.21162838 0.22036999 0.20979874 0.21528766\n",
      " 0.21589754 0.21610083 0.22748526 0.19150234 0.1833706  0.17340923\n",
      " 0.16751372 0.1622281  0.17056312 0.17462899 0.17930474 0.18174426\n",
      " 0.16853019 0.16548079 0.1742224  0.1713763  0.17300264 0.17157959\n",
      " 0.17767839 0.18459036 0.18702988 0.18987599 0.19109575 0.18581012\n",
      " 0.17015654 0.16751372 0.16974995 0.16609067 0.15531612 0.15003049\n",
      " 0.15064037 0.14860744 0.14596463 0.15043708 0.14413499 0.12441553\n",
      " 0.12827811 0.11547062 0.12034966 0.13478349 0.13498679 0.12868469\n",
      " 0.13295385 0.12807481 0.12624517 0.13051433 0.13905265 0.14718439\n",
      " 0.15104696 0.14515145 0.14311852 0.15816223 0.15328319 0.14921732\n",
      " 0.15531612 0.15917869 0.15938199 0.16344786 0.16827482 0.17197919\n",
      " 0.17605256 0.18019883 0.18429622 0.18830557 0.19221826 0.19603691\n",
      " 0.19976926 0.20342539 0.20701633 0.21055284]\n",
      "12 day output [[0.21404406]]\n",
      "13 day input [0.15368977 0.17198618 0.16548079 0.17625534 0.17564546 0.19129904\n",
      " 0.20817239 0.20309006 0.18479366 0.17930474 0.1896727  0.17483228\n",
      " 0.17849156 0.17645863 0.18540354 0.18377719 0.19190892 0.18987599\n",
      " 0.19028258 0.19394186 0.20004066 0.19638138 0.19495832 0.20349665\n",
      " 0.19597479 0.21162838 0.22036999 0.20979874 0.21528766 0.21589754\n",
      " 0.21610083 0.22748526 0.19150234 0.1833706  0.17340923 0.16751372\n",
      " 0.1622281  0.17056312 0.17462899 0.17930474 0.18174426 0.16853019\n",
      " 0.16548079 0.1742224  0.1713763  0.17300264 0.17157959 0.17767839\n",
      " 0.18459036 0.18702988 0.18987599 0.19109575 0.18581012 0.17015654\n",
      " 0.16751372 0.16974995 0.16609067 0.15531612 0.15003049 0.15064037\n",
      " 0.14860744 0.14596463 0.15043708 0.14413499 0.12441553 0.12827811\n",
      " 0.11547062 0.12034966 0.13478349 0.13498679 0.12868469 0.13295385\n",
      " 0.12807481 0.12624517 0.13051433 0.13905265 0.14718439 0.15104696\n",
      " 0.14515145 0.14311852 0.15816223 0.15328319 0.14921732 0.15531612\n",
      " 0.15917869 0.15938199 0.16344786 0.16827482 0.17197919 0.17605256\n",
      " 0.18019883 0.18429622 0.18830557 0.19221826 0.19603691 0.19976926\n",
      " 0.20342539 0.20701633 0.21055284 0.21404406]\n",
      "13 day output [[0.2174977]]\n",
      "14 day input [0.17198618 0.16548079 0.17625534 0.17564546 0.19129904 0.20817239\n",
      " 0.20309006 0.18479366 0.17930474 0.1896727  0.17483228 0.17849156\n",
      " 0.17645863 0.18540354 0.18377719 0.19190892 0.18987599 0.19028258\n",
      " 0.19394186 0.20004066 0.19638138 0.19495832 0.20349665 0.19597479\n",
      " 0.21162838 0.22036999 0.20979874 0.21528766 0.21589754 0.21610083\n",
      " 0.22748526 0.19150234 0.1833706  0.17340923 0.16751372 0.1622281\n",
      " 0.17056312 0.17462899 0.17930474 0.18174426 0.16853019 0.16548079\n",
      " 0.1742224  0.1713763  0.17300264 0.17157959 0.17767839 0.18459036\n",
      " 0.18702988 0.18987599 0.19109575 0.18581012 0.17015654 0.16751372\n",
      " 0.16974995 0.16609067 0.15531612 0.15003049 0.15064037 0.14860744\n",
      " 0.14596463 0.15043708 0.14413499 0.12441553 0.12827811 0.11547062\n",
      " 0.12034966 0.13478349 0.13498679 0.12868469 0.13295385 0.12807481\n",
      " 0.12624517 0.13051433 0.13905265 0.14718439 0.15104696 0.14515145\n",
      " 0.14311852 0.15816223 0.15328319 0.14921732 0.15531612 0.15917869\n",
      " 0.15938199 0.16344786 0.16827482 0.17197919 0.17605256 0.18019883\n",
      " 0.18429622 0.18830557 0.19221826 0.19603691 0.19976926 0.20342539\n",
      " 0.20701633 0.21055284 0.21404406 0.21749771]\n",
      "14 day output [[0.22091988]]\n",
      "15 day input [0.16548079 0.17625534 0.17564546 0.19129904 0.20817239 0.20309006\n",
      " 0.18479366 0.17930474 0.1896727  0.17483228 0.17849156 0.17645863\n",
      " 0.18540354 0.18377719 0.19190892 0.18987599 0.19028258 0.19394186\n",
      " 0.20004066 0.19638138 0.19495832 0.20349665 0.19597479 0.21162838\n",
      " 0.22036999 0.20979874 0.21528766 0.21589754 0.21610083 0.22748526\n",
      " 0.19150234 0.1833706  0.17340923 0.16751372 0.1622281  0.17056312\n",
      " 0.17462899 0.17930474 0.18174426 0.16853019 0.16548079 0.1742224\n",
      " 0.1713763  0.17300264 0.17157959 0.17767839 0.18459036 0.18702988\n",
      " 0.18987599 0.19109575 0.18581012 0.17015654 0.16751372 0.16974995\n",
      " 0.16609067 0.15531612 0.15003049 0.15064037 0.14860744 0.14596463\n",
      " 0.15043708 0.14413499 0.12441553 0.12827811 0.11547062 0.12034966\n",
      " 0.13478349 0.13498679 0.12868469 0.13295385 0.12807481 0.12624517\n",
      " 0.13051433 0.13905265 0.14718439 0.15104696 0.14515145 0.14311852\n",
      " 0.15816223 0.15328319 0.14921732 0.15531612 0.15917869 0.15938199\n",
      " 0.16344786 0.16827482 0.17197919 0.17605256 0.18019883 0.18429622\n",
      " 0.18830557 0.19221826 0.19603691 0.19976926 0.20342539 0.20701633\n",
      " 0.21055284 0.21404406 0.21749771 0.22091988]\n",
      "15 day output [[0.22431488]]\n",
      "16 day input [0.17625534 0.17564546 0.19129904 0.20817239 0.20309006 0.18479366\n",
      " 0.17930474 0.1896727  0.17483228 0.17849156 0.17645863 0.18540354\n",
      " 0.18377719 0.19190892 0.18987599 0.19028258 0.19394186 0.20004066\n",
      " 0.19638138 0.19495832 0.20349665 0.19597479 0.21162838 0.22036999\n",
      " 0.20979874 0.21528766 0.21589754 0.21610083 0.22748526 0.19150234\n",
      " 0.1833706  0.17340923 0.16751372 0.1622281  0.17056312 0.17462899\n",
      " 0.17930474 0.18174426 0.16853019 0.16548079 0.1742224  0.1713763\n",
      " 0.17300264 0.17157959 0.17767839 0.18459036 0.18702988 0.18987599\n",
      " 0.19109575 0.18581012 0.17015654 0.16751372 0.16974995 0.16609067\n",
      " 0.15531612 0.15003049 0.15064037 0.14860744 0.14596463 0.15043708\n",
      " 0.14413499 0.12441553 0.12827811 0.11547062 0.12034966 0.13478349\n",
      " 0.13498679 0.12868469 0.13295385 0.12807481 0.12624517 0.13051433\n",
      " 0.13905265 0.14718439 0.15104696 0.14515145 0.14311852 0.15816223\n",
      " 0.15328319 0.14921732 0.15531612 0.15917869 0.15938199 0.16344786\n",
      " 0.16827482 0.17197919 0.17605256 0.18019883 0.18429622 0.18830557\n",
      " 0.19221826 0.19603691 0.19976926 0.20342539 0.20701633 0.21055284\n",
      " 0.21404406 0.21749771 0.22091988 0.22431488]\n",
      "16 day output [[0.2276859]]\n",
      "17 day input [0.17564546 0.19129904 0.20817239 0.20309006 0.18479366 0.17930474\n",
      " 0.1896727  0.17483228 0.17849156 0.17645863 0.18540354 0.18377719\n",
      " 0.19190892 0.18987599 0.19028258 0.19394186 0.20004066 0.19638138\n",
      " 0.19495832 0.20349665 0.19597479 0.21162838 0.22036999 0.20979874\n",
      " 0.21528766 0.21589754 0.21610083 0.22748526 0.19150234 0.1833706\n",
      " 0.17340923 0.16751372 0.1622281  0.17056312 0.17462899 0.17930474\n",
      " 0.18174426 0.16853019 0.16548079 0.1742224  0.1713763  0.17300264\n",
      " 0.17157959 0.17767839 0.18459036 0.18702988 0.18987599 0.19109575\n",
      " 0.18581012 0.17015654 0.16751372 0.16974995 0.16609067 0.15531612\n",
      " 0.15003049 0.15064037 0.14860744 0.14596463 0.15043708 0.14413499\n",
      " 0.12441553 0.12827811 0.11547062 0.12034966 0.13478349 0.13498679\n",
      " 0.12868469 0.13295385 0.12807481 0.12624517 0.13051433 0.13905265\n",
      " 0.14718439 0.15104696 0.14515145 0.14311852 0.15816223 0.15328319\n",
      " 0.14921732 0.15531612 0.15917869 0.15938199 0.16344786 0.16827482\n",
      " 0.17197919 0.17605256 0.18019883 0.18429622 0.18830557 0.19221826\n",
      " 0.19603691 0.19976926 0.20342539 0.20701633 0.21055284 0.21404406\n",
      " 0.21749771 0.22091988 0.22431488 0.2276859 ]\n",
      "17 day output [[0.2310354]]\n",
      "18 day input [0.19129904 0.20817239 0.20309006 0.18479366 0.17930474 0.1896727\n",
      " 0.17483228 0.17849156 0.17645863 0.18540354 0.18377719 0.19190892\n",
      " 0.18987599 0.19028258 0.19394186 0.20004066 0.19638138 0.19495832\n",
      " 0.20349665 0.19597479 0.21162838 0.22036999 0.20979874 0.21528766\n",
      " 0.21589754 0.21610083 0.22748526 0.19150234 0.1833706  0.17340923\n",
      " 0.16751372 0.1622281  0.17056312 0.17462899 0.17930474 0.18174426\n",
      " 0.16853019 0.16548079 0.1742224  0.1713763  0.17300264 0.17157959\n",
      " 0.17767839 0.18459036 0.18702988 0.18987599 0.19109575 0.18581012\n",
      " 0.17015654 0.16751372 0.16974995 0.16609067 0.15531612 0.15003049\n",
      " 0.15064037 0.14860744 0.14596463 0.15043708 0.14413499 0.12441553\n",
      " 0.12827811 0.11547062 0.12034966 0.13478349 0.13498679 0.12868469\n",
      " 0.13295385 0.12807481 0.12624517 0.13051433 0.13905265 0.14718439\n",
      " 0.15104696 0.14515145 0.14311852 0.15816223 0.15328319 0.14921732\n",
      " 0.15531612 0.15917869 0.15938199 0.16344786 0.16827482 0.17197919\n",
      " 0.17605256 0.18019883 0.18429622 0.18830557 0.19221826 0.19603691\n",
      " 0.19976926 0.20342539 0.20701633 0.21055284 0.21404406 0.21749771\n",
      " 0.22091988 0.22431488 0.2276859  0.2310354 ]\n"
     ]
    },
    {
     "name": "stdout",
     "output_type": "stream",
     "text": [
      "18 day output [[0.23436502]]\n",
      "19 day input [0.20817239 0.20309006 0.18479366 0.17930474 0.1896727  0.17483228\n",
      " 0.17849156 0.17645863 0.18540354 0.18377719 0.19190892 0.18987599\n",
      " 0.19028258 0.19394186 0.20004066 0.19638138 0.19495832 0.20349665\n",
      " 0.19597479 0.21162838 0.22036999 0.20979874 0.21528766 0.21589754\n",
      " 0.21610083 0.22748526 0.19150234 0.1833706  0.17340923 0.16751372\n",
      " 0.1622281  0.17056312 0.17462899 0.17930474 0.18174426 0.16853019\n",
      " 0.16548079 0.1742224  0.1713763  0.17300264 0.17157959 0.17767839\n",
      " 0.18459036 0.18702988 0.18987599 0.19109575 0.18581012 0.17015654\n",
      " 0.16751372 0.16974995 0.16609067 0.15531612 0.15003049 0.15064037\n",
      " 0.14860744 0.14596463 0.15043708 0.14413499 0.12441553 0.12827811\n",
      " 0.11547062 0.12034966 0.13478349 0.13498679 0.12868469 0.13295385\n",
      " 0.12807481 0.12624517 0.13051433 0.13905265 0.14718439 0.15104696\n",
      " 0.14515145 0.14311852 0.15816223 0.15328319 0.14921732 0.15531612\n",
      " 0.15917869 0.15938199 0.16344786 0.16827482 0.17197919 0.17605256\n",
      " 0.18019883 0.18429622 0.18830557 0.19221826 0.19603691 0.19976926\n",
      " 0.20342539 0.20701633 0.21055284 0.21404406 0.21749771 0.22091988\n",
      " 0.22431488 0.2276859  0.2310354  0.23436502]\n",
      "19 day output [[0.23767602]]\n",
      "20 day input [0.20309006 0.18479366 0.17930474 0.1896727  0.17483228 0.17849156\n",
      " 0.17645863 0.18540354 0.18377719 0.19190892 0.18987599 0.19028258\n",
      " 0.19394186 0.20004066 0.19638138 0.19495832 0.20349665 0.19597479\n",
      " 0.21162838 0.22036999 0.20979874 0.21528766 0.21589754 0.21610083\n",
      " 0.22748526 0.19150234 0.1833706  0.17340923 0.16751372 0.1622281\n",
      " 0.17056312 0.17462899 0.17930474 0.18174426 0.16853019 0.16548079\n",
      " 0.1742224  0.1713763  0.17300264 0.17157959 0.17767839 0.18459036\n",
      " 0.18702988 0.18987599 0.19109575 0.18581012 0.17015654 0.16751372\n",
      " 0.16974995 0.16609067 0.15531612 0.15003049 0.15064037 0.14860744\n",
      " 0.14596463 0.15043708 0.14413499 0.12441553 0.12827811 0.11547062\n",
      " 0.12034966 0.13478349 0.13498679 0.12868469 0.13295385 0.12807481\n",
      " 0.12624517 0.13051433 0.13905265 0.14718439 0.15104696 0.14515145\n",
      " 0.14311852 0.15816223 0.15328319 0.14921732 0.15531612 0.15917869\n",
      " 0.15938199 0.16344786 0.16827482 0.17197919 0.17605256 0.18019883\n",
      " 0.18429622 0.18830557 0.19221826 0.19603691 0.19976926 0.20342539\n",
      " 0.20701633 0.21055284 0.21404406 0.21749771 0.22091988 0.22431488\n",
      " 0.2276859  0.2310354  0.23436502 0.23767602]\n",
      "20 day output [[0.24096948]]\n",
      "21 day input [0.18479366 0.17930474 0.1896727  0.17483228 0.17849156 0.17645863\n",
      " 0.18540354 0.18377719 0.19190892 0.18987599 0.19028258 0.19394186\n",
      " 0.20004066 0.19638138 0.19495832 0.20349665 0.19597479 0.21162838\n",
      " 0.22036999 0.20979874 0.21528766 0.21589754 0.21610083 0.22748526\n",
      " 0.19150234 0.1833706  0.17340923 0.16751372 0.1622281  0.17056312\n",
      " 0.17462899 0.17930474 0.18174426 0.16853019 0.16548079 0.1742224\n",
      " 0.1713763  0.17300264 0.17157959 0.17767839 0.18459036 0.18702988\n",
      " 0.18987599 0.19109575 0.18581012 0.17015654 0.16751372 0.16974995\n",
      " 0.16609067 0.15531612 0.15003049 0.15064037 0.14860744 0.14596463\n",
      " 0.15043708 0.14413499 0.12441553 0.12827811 0.11547062 0.12034966\n",
      " 0.13478349 0.13498679 0.12868469 0.13295385 0.12807481 0.12624517\n",
      " 0.13051433 0.13905265 0.14718439 0.15104696 0.14515145 0.14311852\n",
      " 0.15816223 0.15328319 0.14921732 0.15531612 0.15917869 0.15938199\n",
      " 0.16344786 0.16827482 0.17197919 0.17605256 0.18019883 0.18429622\n",
      " 0.18830557 0.19221826 0.19603691 0.19976926 0.20342539 0.20701633\n",
      " 0.21055284 0.21404406 0.21749771 0.22091988 0.22431488 0.2276859\n",
      " 0.2310354  0.23436502 0.23767602 0.24096948]\n",
      "21 day output [[0.24424654]]\n",
      "22 day input [0.17930474 0.1896727  0.17483228 0.17849156 0.17645863 0.18540354\n",
      " 0.18377719 0.19190892 0.18987599 0.19028258 0.19394186 0.20004066\n",
      " 0.19638138 0.19495832 0.20349665 0.19597479 0.21162838 0.22036999\n",
      " 0.20979874 0.21528766 0.21589754 0.21610083 0.22748526 0.19150234\n",
      " 0.1833706  0.17340923 0.16751372 0.1622281  0.17056312 0.17462899\n",
      " 0.17930474 0.18174426 0.16853019 0.16548079 0.1742224  0.1713763\n",
      " 0.17300264 0.17157959 0.17767839 0.18459036 0.18702988 0.18987599\n",
      " 0.19109575 0.18581012 0.17015654 0.16751372 0.16974995 0.16609067\n",
      " 0.15531612 0.15003049 0.15064037 0.14860744 0.14596463 0.15043708\n",
      " 0.14413499 0.12441553 0.12827811 0.11547062 0.12034966 0.13478349\n",
      " 0.13498679 0.12868469 0.13295385 0.12807481 0.12624517 0.13051433\n",
      " 0.13905265 0.14718439 0.15104696 0.14515145 0.14311852 0.15816223\n",
      " 0.15328319 0.14921732 0.15531612 0.15917869 0.15938199 0.16344786\n",
      " 0.16827482 0.17197919 0.17605256 0.18019883 0.18429622 0.18830557\n",
      " 0.19221826 0.19603691 0.19976926 0.20342539 0.20701633 0.21055284\n",
      " 0.21404406 0.21749771 0.22091988 0.22431488 0.2276859  0.2310354\n",
      " 0.23436502 0.23767602 0.24096948 0.24424654]\n",
      "22 day output [[0.24750793]]\n",
      "23 day input [0.1896727  0.17483228 0.17849156 0.17645863 0.18540354 0.18377719\n",
      " 0.19190892 0.18987599 0.19028258 0.19394186 0.20004066 0.19638138\n",
      " 0.19495832 0.20349665 0.19597479 0.21162838 0.22036999 0.20979874\n",
      " 0.21528766 0.21589754 0.21610083 0.22748526 0.19150234 0.1833706\n",
      " 0.17340923 0.16751372 0.1622281  0.17056312 0.17462899 0.17930474\n",
      " 0.18174426 0.16853019 0.16548079 0.1742224  0.1713763  0.17300264\n",
      " 0.17157959 0.17767839 0.18459036 0.18702988 0.18987599 0.19109575\n",
      " 0.18581012 0.17015654 0.16751372 0.16974995 0.16609067 0.15531612\n",
      " 0.15003049 0.15064037 0.14860744 0.14596463 0.15043708 0.14413499\n",
      " 0.12441553 0.12827811 0.11547062 0.12034966 0.13478349 0.13498679\n",
      " 0.12868469 0.13295385 0.12807481 0.12624517 0.13051433 0.13905265\n",
      " 0.14718439 0.15104696 0.14515145 0.14311852 0.15816223 0.15328319\n",
      " 0.14921732 0.15531612 0.15917869 0.15938199 0.16344786 0.16827482\n",
      " 0.17197919 0.17605256 0.18019883 0.18429622 0.18830557 0.19221826\n",
      " 0.19603691 0.19976926 0.20342539 0.20701633 0.21055284 0.21404406\n",
      " 0.21749771 0.22091988 0.22431488 0.2276859  0.2310354  0.23436502\n",
      " 0.23767602 0.24096948 0.24424654 0.24750793]\n",
      "23 day output [[0.2507549]]\n",
      "24 day input [0.17483228 0.17849156 0.17645863 0.18540354 0.18377719 0.19190892\n",
      " 0.18987599 0.19028258 0.19394186 0.20004066 0.19638138 0.19495832\n",
      " 0.20349665 0.19597479 0.21162838 0.22036999 0.20979874 0.21528766\n",
      " 0.21589754 0.21610083 0.22748526 0.19150234 0.1833706  0.17340923\n",
      " 0.16751372 0.1622281  0.17056312 0.17462899 0.17930474 0.18174426\n",
      " 0.16853019 0.16548079 0.1742224  0.1713763  0.17300264 0.17157959\n",
      " 0.17767839 0.18459036 0.18702988 0.18987599 0.19109575 0.18581012\n",
      " 0.17015654 0.16751372 0.16974995 0.16609067 0.15531612 0.15003049\n",
      " 0.15064037 0.14860744 0.14596463 0.15043708 0.14413499 0.12441553\n",
      " 0.12827811 0.11547062 0.12034966 0.13478349 0.13498679 0.12868469\n",
      " 0.13295385 0.12807481 0.12624517 0.13051433 0.13905265 0.14718439\n",
      " 0.15104696 0.14515145 0.14311852 0.15816223 0.15328319 0.14921732\n",
      " 0.15531612 0.15917869 0.15938199 0.16344786 0.16827482 0.17197919\n",
      " 0.17605256 0.18019883 0.18429622 0.18830557 0.19221826 0.19603691\n",
      " 0.19976926 0.20342539 0.20701633 0.21055284 0.21404406 0.21749771\n",
      " 0.22091988 0.22431488 0.2276859  0.2310354  0.23436502 0.23767602\n",
      " 0.24096948 0.24424654 0.24750793 0.25075489]\n",
      "24 day output [[0.2539882]]\n",
      "25 day input [0.17849156 0.17645863 0.18540354 0.18377719 0.19190892 0.18987599\n",
      " 0.19028258 0.19394186 0.20004066 0.19638138 0.19495832 0.20349665\n",
      " 0.19597479 0.21162838 0.22036999 0.20979874 0.21528766 0.21589754\n",
      " 0.21610083 0.22748526 0.19150234 0.1833706  0.17340923 0.16751372\n",
      " 0.1622281  0.17056312 0.17462899 0.17930474 0.18174426 0.16853019\n",
      " 0.16548079 0.1742224  0.1713763  0.17300264 0.17157959 0.17767839\n",
      " 0.18459036 0.18702988 0.18987599 0.19109575 0.18581012 0.17015654\n",
      " 0.16751372 0.16974995 0.16609067 0.15531612 0.15003049 0.15064037\n",
      " 0.14860744 0.14596463 0.15043708 0.14413499 0.12441553 0.12827811\n",
      " 0.11547062 0.12034966 0.13478349 0.13498679 0.12868469 0.13295385\n",
      " 0.12807481 0.12624517 0.13051433 0.13905265 0.14718439 0.15104696\n",
      " 0.14515145 0.14311852 0.15816223 0.15328319 0.14921732 0.15531612\n",
      " 0.15917869 0.15938199 0.16344786 0.16827482 0.17197919 0.17605256\n",
      " 0.18019883 0.18429622 0.18830557 0.19221826 0.19603691 0.19976926\n",
      " 0.20342539 0.20701633 0.21055284 0.21404406 0.21749771 0.22091988\n",
      " 0.22431488 0.2276859  0.2310354  0.23436502 0.23767602 0.24096948\n",
      " 0.24424654 0.24750793 0.25075489 0.25398821]\n",
      "25 day output [[0.2572091]]\n",
      "26 day input [0.17645863 0.18540354 0.18377719 0.19190892 0.18987599 0.19028258\n",
      " 0.19394186 0.20004066 0.19638138 0.19495832 0.20349665 0.19597479\n",
      " 0.21162838 0.22036999 0.20979874 0.21528766 0.21589754 0.21610083\n",
      " 0.22748526 0.19150234 0.1833706  0.17340923 0.16751372 0.1622281\n",
      " 0.17056312 0.17462899 0.17930474 0.18174426 0.16853019 0.16548079\n",
      " 0.1742224  0.1713763  0.17300264 0.17157959 0.17767839 0.18459036\n",
      " 0.18702988 0.18987599 0.19109575 0.18581012 0.17015654 0.16751372\n",
      " 0.16974995 0.16609067 0.15531612 0.15003049 0.15064037 0.14860744\n",
      " 0.14596463 0.15043708 0.14413499 0.12441553 0.12827811 0.11547062\n",
      " 0.12034966 0.13478349 0.13498679 0.12868469 0.13295385 0.12807481\n",
      " 0.12624517 0.13051433 0.13905265 0.14718439 0.15104696 0.14515145\n",
      " 0.14311852 0.15816223 0.15328319 0.14921732 0.15531612 0.15917869\n",
      " 0.15938199 0.16344786 0.16827482 0.17197919 0.17605256 0.18019883\n",
      " 0.18429622 0.18830557 0.19221826 0.19603691 0.19976926 0.20342539\n",
      " 0.20701633 0.21055284 0.21404406 0.21749771 0.22091988 0.22431488\n",
      " 0.2276859  0.2310354  0.23436502 0.23767602 0.24096948 0.24424654\n",
      " 0.24750793 0.25075489 0.25398821 0.25720909]\n",
      "26 day output [[0.2604184]]\n",
      "27 day input [0.18540354 0.18377719 0.19190892 0.18987599 0.19028258 0.19394186\n",
      " 0.20004066 0.19638138 0.19495832 0.20349665 0.19597479 0.21162838\n",
      " 0.22036999 0.20979874 0.21528766 0.21589754 0.21610083 0.22748526\n",
      " 0.19150234 0.1833706  0.17340923 0.16751372 0.1622281  0.17056312\n",
      " 0.17462899 0.17930474 0.18174426 0.16853019 0.16548079 0.1742224\n",
      " 0.1713763  0.17300264 0.17157959 0.17767839 0.18459036 0.18702988\n",
      " 0.18987599 0.19109575 0.18581012 0.17015654 0.16751372 0.16974995\n",
      " 0.16609067 0.15531612 0.15003049 0.15064037 0.14860744 0.14596463\n",
      " 0.15043708 0.14413499 0.12441553 0.12827811 0.11547062 0.12034966\n",
      " 0.13478349 0.13498679 0.12868469 0.13295385 0.12807481 0.12624517\n",
      " 0.13051433 0.13905265 0.14718439 0.15104696 0.14515145 0.14311852\n",
      " 0.15816223 0.15328319 0.14921732 0.15531612 0.15917869 0.15938199\n",
      " 0.16344786 0.16827482 0.17197919 0.17605256 0.18019883 0.18429622\n",
      " 0.18830557 0.19221826 0.19603691 0.19976926 0.20342539 0.20701633\n",
      " 0.21055284 0.21404406 0.21749771 0.22091988 0.22431488 0.2276859\n",
      " 0.2310354  0.23436502 0.23767602 0.24096948 0.24424654 0.24750793\n",
      " 0.25075489 0.25398821 0.25720909 0.26041839]\n",
      "27 day output [[0.2636172]]\n"
     ]
    },
    {
     "name": "stdout",
     "output_type": "stream",
     "text": [
      "[[0.16827481985092163], [0.17197918891906738], [0.17605255544185638], [0.18019883334636688], [0.18429622054100037], [0.1883055716753006], [0.19221825897693634], [0.1960369050502777], [0.1997692584991455], [0.20342539250850677], [0.20701633393764496], [0.21055284142494202], [0.21404406428337097], [0.21749770641326904], [0.2209198772907257], [0.224314883351326], [0.22768589854240417], [0.23103539645671844], [0.23436501622200012], [0.23767602443695068], [0.2409694790840149], [0.24424654245376587], [0.24750792980194092], [0.2507548928260803], [0.25398820638656616], [0.25720909237861633], [0.2604183852672577], [0.2636171877384186]]\n"
     ]
    }
   ],
   "source": [
    "temp_input = list(x_input)\n",
    "temp_input = temp_input[0].tolist()\n",
    "\n",
    "lst_output=[]\n",
    "n_steps=100\n",
    "nextNumberOfDays = 28\n",
    "i=0\n",
    "\n",
    "while(i<nextNumberOfDays):\n",
    "    \n",
    "    if(len(temp_input)>100):\n",
    "        x_input=np.array(temp_input[1:])\n",
    "        print(\"{} day input {}\".format(i,x_input))\n",
    "        x_input=x_input.reshape(1,-1)\n",
    "        x_input = x_input.reshape((1, n_steps, 1))\n",
    "        yhat = model.predict(x_input, verbose=0)\n",
    "        print(\"{} day output {}\".format(i,yhat))\n",
    "        temp_input.extend(yhat[0].tolist())\n",
    "        temp_input=temp_input[1:]\n",
    "        lst_output.extend(yhat.tolist())\n",
    "        i=i+1\n",
    "    else:\n",
    "        x_input = x_input.reshape((1, n_steps,1))\n",
    "        yhat = model.predict(x_input, verbose=0)\n",
    "        print(yhat[0])\n",
    "        temp_input.extend(yhat[0].tolist())\n",
    "        print(len(temp_input))\n",
    "        lst_output.extend(yhat.tolist())\n",
    "        i=i+1\n",
    "    \n",
    "\n",
    "print(lst_output)"
   ]
  },
  {
   "cell_type": "code",
   "execution_count": 36,
   "metadata": {},
   "outputs": [],
   "source": [
    "day_new = np.arange(1,101)\n",
    "day_pred = np.arange(101,129)"
   ]
  },
  {
   "cell_type": "code",
   "execution_count": 37,
   "metadata": {},
   "outputs": [
    {
     "data": {
      "text/plain": [
       "(100,)"
      ]
     },
     "execution_count": 37,
     "metadata": {},
     "output_type": "execute_result"
    }
   ],
   "source": [
    "day_new.shape"
   ]
  },
  {
   "cell_type": "code",
   "execution_count": 38,
   "metadata": {},
   "outputs": [
    {
     "data": {
      "text/plain": [
       "(28,)"
      ]
     },
     "execution_count": 38,
     "metadata": {},
     "output_type": "execute_result"
    }
   ],
   "source": [
    "day_pred.shape"
   ]
  },
  {
   "cell_type": "code",
   "execution_count": 39,
   "metadata": {},
   "outputs": [
    {
     "data": {
      "text/plain": [
       "2035"
      ]
     },
     "execution_count": 39,
     "metadata": {},
     "output_type": "execute_result"
    }
   ],
   "source": [
    "ds3 = high_df.tolist()\n",
    "ds3.extend(lst_output)\n",
    "\n",
    "len(high_df)"
   ]
  },
  {
   "cell_type": "code",
   "execution_count": 40,
   "metadata": {},
   "outputs": [
    {
     "data": {
      "image/png": "[encoded data removed]",
      "text/plain": [
       "<Figure size 936x432 with 1 Axes>"
      ]
     },
     "metadata": {
      "needs_background": "light"
     },
     "output_type": "display_data"
    }
   ],
   "source": [
    "plt.figure(figsize=(13,6))\n",
    "\n",
    "plt.plot(day_new, scaler.inverse_transform(high_df[1935:]))\n",
    "plt.plot(day_pred, scaler.inverse_transform(lst_output))\n",
    "\n",
    "plt.show()"
   ]
  },
  {
   "cell_type": "code",
   "execution_count": 41,
   "metadata": {},
   "outputs": [
    {
     "data": {
      "image/png": "[encoded data removed]",
      "text/plain": [
       "<Figure size 936x432 with 1 Axes>"
      ]
     },
     "metadata": {
      "needs_background": "light"
     },
     "output_type": "display_data"
    }
   ],
   "source": [
    "plt.figure(figsize=(13,6))\n",
    "\n",
    "ds3=scaler.inverse_transform(ds3).tolist()\n",
    "plt.plot(ds3)\n",
    "\n",
    "plt.show()\n"
   ]
  }
 ],
 "metadata": {
  "kernelspec": {
   "display_name": "Python 3",
   "language": "python",
   "name": "python3"
  },
  "language_info": {
   "codemirror_mode": {
    "name": "ipython",
    "version": 3
   },
   "file_extension": ".py",
   "mimetype": "text/x-python",
   "name": "python",
   "nbconvert_exporter": "python",
   "pygments_lexer": "ipython3",
   "version": "3.8.5"
  }
 },
 "nbformat": 4,
 "nbformat_minor": 4
}
